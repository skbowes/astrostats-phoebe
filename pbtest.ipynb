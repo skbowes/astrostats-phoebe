{
 "cells": [
  {
   "cell_type": "code",
   "execution_count": 1,
   "metadata": {},
   "outputs": [
    {
     "name": "stdout",
     "output_type": "stream",
     "text": [
      "PHOEBE: passband \"Bolometric:900-40000\" has a newer version available.  Run phoebe.list_passband_online_history(\"Bolometric:900-40000\") to get a list of available changes and phoebe.update_passband(\"Bolometric:900-40000\") or phoebe.update_all_passbands() to update.\n",
      "PHOEBE: passband \"Johnson:V\" has a newer version available.  Run phoebe.list_passband_online_history(\"Johnson:V\") to get a list of available changes and phoebe.update_passband(\"Johnson:V\") or phoebe.update_all_passbands() to update.\n"
     ]
    }
   ],
   "source": [
    "import matplotlib.pyplot as plt\n",
    "import phoebe as pb\n",
    "from phoebe import u\n",
    "import pandas as pd "
   ]
  },
  {
   "cell_type": "code",
   "execution_count": 2,
   "metadata": {},
   "outputs": [
    {
     "data": {
      "text/plain": [
       "<ParameterSet: 80 parameters | contexts: compute, figure, constraint, dataset>"
      ]
     },
     "execution_count": 2,
     "metadata": {},
     "output_type": "execute_result"
    }
   ],
   "source": [
    "logger = pb.logger()\n",
    "b = pb.default_binary()\n",
    "b.add_dataset('lc', times=pb.linspace(0,1,101), dataset='lc01', overwrite=True)"
   ]
  },
  {
   "cell_type": "code",
   "execution_count": 3,
   "metadata": {},
   "outputs": [],
   "source": [
    "b[\"ecc@binary\"] = 0.26\n",
    "# b[\"q@binary\"] = 0.17\n",
    "b[\"q@binary\"] = 0.18\n",
    "b[\"sma@binary\"] = 40 * u.solRad\n",
    "b[\"incl@binary\"] = 79.5\n",
    "b[\"per0\"] = 275 *u.deg\n",
    "b[\"period@binary\"] = 5.9525 *u.day\n",
    "b['t0_supconj@component'] = 1629\n",
    "\n",
    "\n",
    "#primary\n",
    "# b[\"mass@primary@component\"] = 13.5\n",
    "# b.flip_constraint(\"sma@binary\", solve_for=\"mass\")\n",
    "b[\"requiv@primary\"] = 8.8 #2013: 8.8; \n",
    "b[\"teff@primary\"] = 25000\n",
    "b[\"gravb_bol@primary\"] = 1.0\n",
    "b[\"irrad_frac_refl_bol@primary\"] = 1.0\n",
    "# b.flip_constraint(\"logg@primary\", solve_for=\"requiv@primary\")\n",
    "# b[\"logg@primary@star@component\"] = 3.8\n",
    "# b.flip_constraint(\"requiv@primary\",solve_for=\"logg@primary\")\n",
    "\n",
    "#secondary\n",
    "# b.flip_constraint(\"mass@secondary\", solve_for=\"q\")\n",
    "# b[\"mass@secondary@component\"] = 1.8\n",
    "\n",
    "# b.flip_constraint(\"q@binary\", solve_for=\"mass\")\n",
    "b[\"requiv@secondary@component\"] = 1.3 #1.5+/-0.2\n",
    "# b['teffratio@binary'] = 0.21\n",
    "b[\"teff@secondary@component\"] = 6000\n",
    "\n",
    "b[\"gravb_bol@secondary\"] = 0.7\n",
    "b[\"irrad_frac_refl_bol@secondary\"] = 0.7"
   ]
  },
  {
   "cell_type": "code",
   "execution_count": 4,
   "metadata": {},
   "outputs": [
    {
     "name": "stderr",
     "output_type": "stream",
     "text": [
      "Sun, 09 Feb 2025 19:13 BUNDLE       WARNING ld_mode_bol of 'lookup' uses a bolometric passband which is not reliable for hot stars.  Consider using ld_mode_bol of manual and providing ld_coeffs instead.\n",
      "100%|██████████| 101/101 [00:01<00:00, 61.35it/s]\n"
     ]
    },
    {
     "data": {
      "text/plain": [
       "<ParameterSet: 3 parameters | qualifiers: times, fluxes, comments>"
      ]
     },
     "execution_count": 4,
     "metadata": {},
     "output_type": "execute_result"
    }
   ],
   "source": [
    "b.add_dataset('lc', times=pb.linspace(0,1,101), dataset='lc01', overwrite=True)\n",
    "# b.add_dataset('rv', times=pb.linspace(0,1,101), dataset='rv01', overwrite=True)\n",
    "\n",
    "b.run_compute()"
   ]
  },
  {
   "cell_type": "code",
   "execution_count": 5,
   "metadata": {},
   "outputs": [
    {
     "name": "stderr",
     "output_type": "stream",
     "text": [
      "/opt/anaconda3/envs/phoebe_environment/lib/python3.13/site-packages/phoebe/dependencies/autofig/figure.py:627: UserWarning: FigureCanvasAgg is non-interactive, and thus cannot be shown\n",
      "  plt.show()  # <-- blocking\n",
      "/var/folders/34/3847lqd14j78mfm70_z1c_r00000gn/T/ipykernel_13971/3563954529.py:3: UserWarning: FigureCanvasAgg is non-interactive, and thus cannot be shown\n",
      "  plt.show(block=False)\n"
     ]
    }
   ],
   "source": [
    "plotter = b.plot(x='phase',  ylabel = 'Normalized Flux', xlabel = 'Phase', show=True, save = 'pbtest.png')\n",
    "# plt.ion()\n",
    "plt.show(block=False)"
   ]
  },
  {
   "cell_type": "code",
   "execution_count": null,
   "metadata": {},
   "outputs": [],
   "source": []
  }
 ],
 "metadata": {
  "kernelspec": {
   "display_name": "phoebe_environment",
   "language": "python",
   "name": "python3"
  },
  "language_info": {
   "codemirror_mode": {
    "name": "ipython",
    "version": 3
   },
   "file_extension": ".py",
   "mimetype": "text/x-python",
   "name": "python",
   "nbconvert_exporter": "python",
   "pygments_lexer": "ipython3",
   "version": "3.13.1"
  }
 },
 "nbformat": 4,
 "nbformat_minor": 2
}
