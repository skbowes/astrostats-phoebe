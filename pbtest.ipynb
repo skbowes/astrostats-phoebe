{
 "cells": [
  {
   "cell_type": "markdown",
   "metadata": {},
   "source": [
    "# JAS 1101 Group Project - Lightcurve Generation Notebook"
   ]
  },
  {
   "cell_type": "markdown",
   "metadata": {},
   "source": [
    "### Team 3: Shannon Bowes, Westley Brown, Marco Gallegos Herrada, Mattias Lazda"
   ]
  },
  {
   "cell_type": "code",
   "execution_count": 1,
   "metadata": {},
   "outputs": [],
   "source": [
    "import phoebe as pb\n",
    "from phoebe import u\n",
    "import numpy as np\n",
    "import matplotlib.pyplot as plt"
   ]
  },
  {
   "cell_type": "markdown",
   "metadata": {},
   "source": [
    "This next cell has to be run in order to get around a bug that is in the PHOEBE code itself (see the latest Git issue tag for explanation)."
   ]
  },
  {
   "cell_type": "code",
   "execution_count": 2,
   "metadata": {},
   "outputs": [],
   "source": [
    "pb.atmospheres.passbands._url_tables_server = 'https://staging.phoebe-project.org'\n",
    "pb.list_online_passbands(refresh=True)\n",
    "pb.list_all_update_passbands_available()\n",
    "pb.update_all_passbands()"
   ]
  },
  {
   "cell_type": "markdown",
   "metadata": {},
   "source": [
    "This initiates a default binary system that you can change the parameter values of. The dataset is an empty dataset that generates a list of times and any changes to parameters will be added to this dataset. If we wanted to plot our synthetic lightcurve over an observed lightcurve, this is how we would add the observed data.\n",
    "\n",
    "We can change our sampling by adjusting the number of times in `times=pb.linspace(0,2.71,x)`."
   ]
  },
  {
   "cell_type": "code",
   "execution_count": 17,
   "metadata": {},
   "outputs": [
    {
     "data": {
      "text/plain": [
       "<ParameterSet: 80 parameters | contexts: constraint, figure, compute, dataset>"
      ]
     },
     "execution_count": 17,
     "metadata": {},
     "output_type": "execute_result"
    }
   ],
   "source": [
    "logger = pb.logger()\n",
    "b = pb.default_binary()\n",
    "b.add_dataset('lc', times=pb.linspace(0,2.71,1000), dataset='lc01', overwrite=True)"
   ]
  },
  {
   "cell_type": "markdown",
   "metadata": {},
   "source": [
    "There's a couple different ways that you can set parameter values. Below is how I set them.\n",
    "There's a lot of parameters that are set to default values, so you don't need to set them all."
   ]
  },
  {
   "cell_type": "markdown",
   "metadata": {},
   "source": [
    "If you want to see what the default values are, you can use the command `print(b.filter())` to see all the parameters that are set to default values. You can also do this after setting parameters to see the final values of all the parameters in your 'bundle' (the PHOEBE term for model).\n",
    "Changing the value of a parameter is as simple as `b['parameter_name'] = value`. For example, `b['q'] = 0.5` would set the mass ratio to 0.5.\n",
    "However, you often have to specify whether the parameter you are referencing is for the primary or secondary components or the binary overall (so of the form `b['q@binary']`)."
   ]
  },
  {
   "cell_type": "markdown",
   "metadata": {},
   "source": [
    "You cannot set some parameters immediately without addressing hierarchy. For example, you cannot set `b['teffratio@binary'] = 0.65` because `teffratio` is a constrained parameter of the primary and secondary components, defined by the physical equations written into PHOEBE. You would need to flip the equation, by running `b.flip_constraint(\"teffratio@binary\", solve_for = \"teff@primary\")`, for example, instead. We'll know we're running into this problem if we get the error \"ValueError: cannot change the value of a constrained parameter.\" If we run into issues, we can look at this tutorial:\n",
    "https://phoebe-project.org/docs/2.4/tutorials/constraints_hierarchies"
   ]
  },
  {
   "cell_type": "code",
   "execution_count": 18,
   "metadata": {},
   "outputs": [
    {
     "name": "stdout",
     "output_type": "stream",
     "text": [
      "Run Checks Report: PASS\n",
      "\n",
      "ParameterSet: 187 parameters\n",
      "                        t0@system: 0.0 d\n",
      "                        ra@system: 0.0 deg\n",
      "                       dec@system: 0.0 deg\n",
      "                  distance@system: 1.0 m\n",
      "                    vgamma@system: 0.0 km / s\n",
      "C                      ebv@system: 0.0\n",
      "                        Av@system: 0.0\n",
      "                        Rv@system: 3.1\n",
      "                 hierarchy@system: orbit:binary(star:primary, star:secondary)\n",
      "C        requiv@primary@component: 1.5598999999999998 solRad\n",
      "C    requiv_max@primary@component: 2.0130111426796167 solRad\n",
      "C          teff@primary@component: 9230.76923076923 K\n",
      "           abun@primary@component: 0.0\n",
      "C          logg@primary@component: 3.1854197703611282\n",
      "        syncpar@primary@component: 1.0\n",
      "C        period@primary@component: 2.71 d\n",
      "C          freq@primary@component: 2.318518563534903 rad / d\n",
      "          pitch@primary@component: 0.0 deg\n",
      "            yaw@primary@component: 0.0 deg\n",
      "C          incl@primary@component: 77.3 deg\n",
      "C       long_an@primary@component: 0.0 deg\n",
      "      gravb_bol@primary@component: 0.9\n",
      "   irrad_frac_refl_bol@primary...: 0.9\n",
      "C  irrad_frac_lost_bol@primary...: 0.09999999999999998\n",
      "    ld_mode_bol@primary@component: lookup\n",
      "    ld_func_bol@primary@component: logarithmic\n",
      "   ld_coeffs_source_bol@primar...: auto\n",
      "C          mass@primary@component: 0.13600211405018744 solMass\n",
      "       requiv@secondary@component: 1.0 solRad\n",
      "C  requiv_max@secondary@component: 2.0130111426796167 solRad\n",
      "         teff@secondary@component: 6000.0 K\n",
      "         abun@secondary@component: 0.0\n",
      "C        logg@secondary@component: 3.571613286505668\n",
      "      syncpar@secondary@component: 1.0\n",
      "C      period@secondary@component: 2.71 d\n",
      "C        freq@secondary@component: 2.318518563534903 rad / d\n",
      "        pitch@secondary@component: 0.0 deg\n",
      "          yaw@secondary@component: 0.0 deg\n",
      "C        incl@secondary@component: 77.3 deg\n",
      "C     long_an@secondary@component: 0.0 deg\n",
      "    gravb_bol@secondary@component: 0.32\n",
      "   irrad_frac_refl_bol@seconda...: 0.6\n",
      "C  irrad_frac_lost_bol@seconda...: 0.4\n",
      "   ld_mode_bol@secondary@compo...: lookup\n",
      "   ld_func_bol@secondary@compo...: logarithmic\n",
      "   ld_coeffs_source_bol@second...: auto\n",
      "C        mass@secondary@component: 0.13600211405018744 solMass\n",
      "          period@binary@component: 2.71 d\n",
      "C           freq@binary@component: 2.318518563534903 rad / d\n",
      "            dpdt@binary@component: 0.0 s / yr\n",
      "            per0@binary@component: 0.0 deg\n",
      "          dperdt@binary@component: 0.0 deg / yr\n",
      "             ecc@binary@component: 0.00016\n",
      "C     t0_perpass@binary@component: -0.6773619808339395 d\n",
      "      t0_supconj@binary@component: 0.0 d\n",
      "C         t0_ref@binary@component: 0.00013801916606046932 d\n",
      "C      mean_anom@binary@component: 89.98166535063402 deg\n",
      "            incl@binary@component: 77.3 deg\n",
      "               q@binary@component: 1.0\n",
      "             sma@binary@component: 5.3 solRad\n",
      "         long_an@binary@component: 0.0 deg\n",
      "C          asini@binary@component: 5.170333082913039 solRad\n",
      "C          ecosw@binary@component: 0.00016\n",
      "C          esinw@binary@component: 0.0\n",
      "       teffratio@binary@component: 0.65\n",
      "C    requivratio@binary@component: 0.6410667350471184\n",
      "   requivsumfrac@binary@component: 0.483\n",
      "C           sma@primary@component: 2.65 solRad\n",
      "C         asini@primary@component: 2.5851665414565197 solRad\n",
      "C         sma@secondary@component: 2.65 solRad\n",
      "C       asini@secondary@component: 2.5851665414565197 solRad\n",
      "                   ebv@constraint: {Av@system} / {Rv@system}\n",
      "          freq@primary@constraint: 6.28318530717958623e+00 / {period@primary@component}\n",
      "          logg@primary@constraint: log10((({mass@primary@component} / ({requiv@primary@component} ** 2.000000)) * 2.94220621750441933e+03) * 9.31954089506172778e+00)\n",
      "   irrad_frac_lost_bol@primary...: 1.00000000000000000e+00 - {irrad_frac_refl_bol@primary@component}\n",
      "        freq@secondary@constraint: 6.28318530717958623e+00 / {period@secondary@component}\n",
      "        logg@secondary@constraint: log10((({mass@secondary@component} / ({requiv@secondary@component} ** 2.000000)) * 2.94220621750441933e+03) * 9.31954089506172778e+00)\n",
      "   irrad_frac_lost_bol@seconda...: 1.00000000000000000e+00 - {irrad_frac_refl_bol@secondary@component}\n",
      "          asini@binary@constraint: {sma@binary@component} * (sin({incl@binary@component}))\n",
      "            t0_perpass@constraint: t0_supconj_to_perpass({t0_supconj@binary@component}, {period@binary@component}, {ecc@binary@component}, {per0@binary@component}, {dpdt@binary@component}, {dperdt@binary@component}, {t0@system})\n",
      "                t0_ref@constraint: t0_supconj_to_ref({t0_supconj@binary@component}, {period@binary@component}, {ecc@binary@component}, {per0@binary@component}, {dpdt@binary@component}, {dperdt@binary@component}, {t0@system})\n",
      "             mean_anom@constraint: (6.28318530717958623e+00 * ({t0@system} - {t0_perpass@binary@component})) / {period@binary@component}\n",
      "                 ecosw@constraint: {ecc@binary@component} * (cos({per0@binary@component}))\n",
      "                 esinw@constraint: {ecc@binary@component} * (sin({per0@binary@component}))\n",
      "           freq@binary@constraint: 6.28318530717958623e+00 / {period@binary@component}\n",
      "                  teff@constraint: {teff@secondary@component} / {teffratio@binary@component}\n",
      "           requivratio@constraint: {requiv@secondary@component} / {requiv@primary@component}\n",
      "                requiv@constraint: ({requivsumfrac@binary@component} * {sma@binary@component}) - {requiv@secondary@component}\n",
      "          mass@primary@constraint: (3.94784176043574320e+01 * ({sma@binary@component} ** 3.000000)) / ((({period@binary@component} ** 2.000000) * ({q@binary@component} + 1.000000)) * 2.94220621750441933e+03)\n",
      "           sma@primary@constraint: {sma@binary@component} / ((1.00000000000000000e+00 / {q@binary@component}) + 1.00000000000000000e+00)\n",
      "         asini@primary@constraint: ({sma@binary@component} * (sin({incl@binary@component}))) / ((1.00000000000000000e+00 / {q@binary@component}) + 1.00000000000000000e+00)\n",
      "        period@primary@constraint: {period@binary@component} / {syncpar@primary@component}\n",
      "          incl@primary@constraint: {incl@binary@component} + {pitch@primary@component}\n",
      "       long_an@primary@constraint: {long_an@binary@component} + {yaw@primary@component}\n",
      "    requiv_max@primary@constraint: requiv_L1({q@binary@component}, {syncpar@primary@component}, {ecc@binary@component}, {sma@binary@component}, {incl@primary@component}, {long_an@primary@component}, {incl@binary@component}, {long_an@binary@component}, 1)\n",
      "        mass@secondary@constraint: (3.94784176043574320e+01 * ({sma@binary@component} ** 3.000000)) / ((({period@binary@component} ** 2.000000) * ((1.00000000000000000e+00 / {q@binary@component}) + 1.00000000000000000e+00)) * 2.94220621750441933e+03)\n",
      "         sma@secondary@constraint: {sma@binary@component} / ({q@binary@component} + 1.000000)\n",
      "       asini@secondary@constraint: ({sma@binary@component} * (sin({incl@binary@component}))) / ({q@binary@component} + 1.000000)\n",
      "      period@secondary@constraint: {period@binary@component} / {syncpar@secondary@component}\n",
      "        incl@secondary@constraint: {incl@binary@component} + {pitch@secondary@component}\n",
      "     long_an@secondary@constraint: {long_an@binary@component} + {yaw@secondary@component}\n",
      "   requiv_max@secondary@constr...: requiv_L1({q@binary@component}, {syncpar@secondary@component}, {ecc@binary@component}, {sma@binary@component}, {incl@secondary@component}, {long_an@secondary@component}, {incl@binary@component}, {long_an@binary@component}, 2)\n",
      "     sample_from@phoebe01@compute: []\n",
      "        comments@phoebe01@compute: \n",
      "      use_server@phoebe01@compute: none\n",
      "   dynamics_method@phoebe01@co...: keplerian\n",
      "            ltte@phoebe01@compute: False\n",
      "    irrad_method@phoebe01@compute: horvat\n",
      "   boosting_method@phoebe01@co...: none\n",
      "   eclipse_method@phoebe01@com...: native\n",
      "   horizon_method@phoebe01@com...: boolean\n",
      "   mesh_method@primary@phoebe0...: marching\n",
      "   mesh_method@secondary@phoeb...: marching\n",
      "   ntriangles@primary@phoebe01...: 1500\n",
      "   ntriangles@secondary@phoebe...: 1500\n",
      "   distortion_method@primary@p...: roche\n",
      "   distortion_method@secondary...: roche\n",
      "     atm@primary@phoebe01@compute: ck2004\n",
      "   atm@secondary@phoebe01@compute: ck2004\n",
      "       default_time_source@figure: None\n",
      "        latex_repr@primary@figure: \n",
      "             color@primary@figure: blue\n",
      "            marker@primary@figure: .\n",
      "         linestyle@primary@figure: solid\n",
      "      latex_repr@secondary@figure: \n",
      "           color@secondary@figure: orange\n",
      "          marker@secondary@figure: o\n",
      "       linestyle@secondary@figure: dashed\n",
      "         latex_repr@binary@figure: \n",
      "R          phoebe_version@setting: 2.4.17\n",
      "              dict_filter@setting: {}\n",
      "             dict_set_all@setting: False\n",
      "       run_checks_compute@setting: ['*']\n",
      "        run_checks_solver@setting: ['*']\n",
      "      run_checks_solution@setting: ['*']\n",
      "        run_checks_figure@setting: ['*']\n",
      "        run_checks_server@setting: ['*']\n",
      "          auto_add_figure@setting: True\n",
      "       auto_remove_figure@setting: True\n",
      "               web_client@setting: False\n",
      "           web_client_url@setting: ui.phoebe-project.org\n",
      "               times@lc01@dataset: [0.         0.00271271 0.00542543 ... 2.70457457\n",
      " 2.70728729 2.71      ] d\n",
      "              fluxes@lc01@dataset: [] W / m2\n",
      "            passband@lc01@dataset: Johnson:V\n",
      "    intens_weighting@lc01@dataset: energy\n",
      "       compute_times@lc01@dataset: [] d\n",
      "C     compute_phases@lc01@dataset: []\n",
      "           phases_t0@lc01@dataset: t0_supconj\n",
      "        mask_enabled@lc01@dataset: True\n",
      "         mask_phases@lc01@dataset: []\n",
      "        solver_times@lc01@dataset: auto\n",
      "              sigmas@lc01@dataset: [] W / m2\n",
      "          pblum_mode@lc01@dataset: component-coupled\n",
      "     pblum_component@lc01@dataset: primary\n",
      "             l3_mode@lc01@dataset: flux\n",
      "                  l3@lc01@dataset: 0.0 W / m2\n",
      "             exptime@lc01@dataset: 0.0 s\n",
      "         enabled@phoebe01@compute: True\n",
      "      fti_method@phoebe01@compute: none\n",
      "     ld_mode@primary@lc01@dataset: interp\n",
      "   ld_mode@secondary@lc01@dataset: interp\n",
      "       pblum@primary@lc01@dataset: 12.566370614359172 W\n",
      "        compute_phases@constraint: times_to_phases({compute_times@lc01@dataset}, {phases_period@lc01@dataset}, {period@binary@component}, {period_anom@binary@component}, {phases_dpdt@lc01@dataset}, {dpdt@binary@component}, {phases_t0@lc01@dataset}, {t0_supconj@binary@component}, {t0_perpass@binary@component}, {t0_ref@binary@component})\n",
      "           latex_repr@lc01@figure: \n",
      "                color@lc01@figure: black\n",
      "               marker@lc01@figure: .\n",
      "            linestyle@lc01@figure: solid\n",
      "          contexts@lcfig01@figure: ['*']\n",
      "          datasets@lcfig01@figure: ['*']\n",
      "            models@lcfig01@figure: ['*']\n",
      "                 x@lcfig01@figure: times\n",
      "                 y@lcfig01@figure: fluxes\n",
      "     xlabel_source@lcfig01@figure: auto\n",
      "      xunit_source@lcfig01@figure: auto\n",
      "       xlim_source@lcfig01@figure: auto\n",
      "     ylabel_source@lcfig01@figure: auto\n",
      "      yunit_source@lcfig01@figure: auto\n",
      "       ylim_source@lcfig01@figure: auto\n",
      "      color_source@lcfig01@figure: model\n",
      "     marker_source@lcfig01@figure: manual\n",
      "            marker@lcfig01@figure: .\n",
      "   linestyle_source@lcfig01@fi...: manual\n",
      "         linestyle@lcfig01@figure: solid\n",
      "            legend@lcfig01@figure: True\n",
      "           uncover@lcfig01@figure: False\n",
      "         highlight@lcfig01@figure: True\n",
      "       time_source@lcfig01@figure: default\n"
     ]
    }
   ],
   "source": [
    "#setting chosen binary parameters\n",
    "b[\"ecc@binary\"] = 1.6E-4\n",
    "b[\"q@binary\"] = 1\n",
    "b[\"incl@binary\"] = 77.3\n",
    "b[\"period@binary\"] = 2.71\n",
    "\n",
    "### when you flip it, if you rerun the cell you have to comment out the lines because flipping it back is a different command and we dont want to do that\n",
    "# print(b[\"requivsumfrac@binary\"])\n",
    "# print(b[\"requivsumfrac@binary@orbit@component\"].constrained_by)\n",
    "\n",
    "### comment out these two lines after running once (if re-running cell)\n",
    "b.flip_constraint(\"requivsumfrac@binary\", solve_for=\"requiv@primary\")\n",
    "b.flip_constraint(\"teffratio@binary\", solve_for = \"teff@primary\")\n",
    "\n",
    "b['teffratio@binary'] = 0.65\n",
    "b[\"requivsumfrac@binary@orbit@component\"] = 0.483\n",
    "\n",
    "b[\"gravb_bol@primary\"] = 0.9\n",
    "b[\"irrad_frac_refl_bol@primary\"] = 0.9\n",
    "print(b.run_checks())\n",
    "\n",
    "print(b.filter())"
   ]
  },
  {
   "cell_type": "markdown",
   "metadata": {},
   "source": [
    "At this point, as an extra sanity check, we should check that the parameters are indeed what we set them to be (when setting multiple parameters at once, if you are not paying attention to hierarchies, you may accidentally reset a parameter you set previously)."
   ]
  },
  {
   "cell_type": "code",
   "execution_count": 5,
   "metadata": {},
   "outputs": [
    {
     "name": "stdout",
     "output_type": "stream",
     "text": [
      "Parameter: ecc@binary@component\n",
      "                       Qualifier: ecc\n",
      "                     Description: Eccentricity\n",
      "                           Value: 0.00016\n",
      "                  Constrained by: \n",
      "                      Constrains: t0_perpass@binary@component, t0_ref@binary@component, ecosw@binary@component, esinw@binary@component, requiv_max@primary@component, requiv_max@secondary@component\n",
      "                      Related to: t0_supconj@binary@component, period@binary@component, per0@binary@component, dpdt@binary@component, dperdt@binary@component, t0@system, t0_perpass@binary@component, t0_ref@binary@component, ecosw@binary@component, esinw@binary@component, q@binary@component, syncpar@primary@component, sma@binary@component, incl@primary@component, long_an@primary@component, incl@binary@component, long_an@binary@component, requiv_max@primary@component, syncpar@secondary@component, incl@secondary@component, long_an@secondary@component, requiv_max@secondary@component\n",
      "\n",
      "Parameter: q@binary@component\n",
      "                       Qualifier: q\n",
      "                     Description: Mass ratio\n",
      "                           Value: 1.0\n",
      "                  Constrained by: \n",
      "                      Constrains: mass@primary@component, sma@primary@component, asini@primary@component, requiv_max@primary@component, mass@secondary@component, sma@secondary@component, asini@secondary@component, requiv_max@secondary@component\n",
      "                      Related to: sma@binary@component, period@binary@component, mass@primary@component, sma@primary@component, incl@binary@component, asini@primary@component, syncpar@primary@component, ecc@binary@component, incl@primary@component, long_an@primary@component, long_an@binary@component, requiv_max@primary@component, mass@secondary@component, sma@secondary@component, asini@secondary@component, syncpar@secondary@component, incl@secondary@component, long_an@secondary@component, requiv_max@secondary@component\n",
      "\n",
      "Parameter: incl@binary@component\n",
      "                       Qualifier: incl\n",
      "                     Description: Orbital inclination angle\n",
      "                           Value: 77.3 deg\n",
      "                  Constrained by: \n",
      "                      Constrains: asini@binary@component, asini@primary@component, incl@primary@component, requiv_max@primary@component, asini@secondary@component, incl@secondary@component, requiv_max@secondary@component\n",
      "                      Related to: sma@binary@component, asini@binary@component, q@binary@component, asini@primary@component, pitch@primary@component, incl@primary@component, syncpar@primary@component, ecc@binary@component, long_an@primary@component, long_an@binary@component, requiv_max@primary@component, asini@secondary@component, pitch@secondary@component, incl@secondary@component, syncpar@secondary@component, long_an@secondary@component, requiv_max@secondary@component\n",
      "\n",
      "Parameter: period@binary@component\n",
      "                       Qualifier: period\n",
      "                     Description: Orbital period (defined at t0@system, sidereal: wrt the sky)\n",
      "                           Value: 2.71 d\n",
      "                  Constrained by: \n",
      "                      Constrains: t0_perpass@binary@component, t0_ref@binary@component, period_anom@binary@component, mean_anom@binary@component, freq@binary@component, mass@primary@component, period@primary@component, mass@secondary@component, period@secondary@component, compute_phases@lc01@dataset\n",
      "                      Related to: t0_supconj@binary@component, ecc@binary@component, per0@binary@component, dpdt@binary@component, dperdt@binary@component, t0@system, t0_perpass@binary@component, t0_ref@binary@component, period_anom@binary@component, mean_anom@binary@component, freq@binary@component, sma@binary@component, q@binary@component, mass@primary@component, syncpar@primary@component, period@primary@component, mass@secondary@component, syncpar@secondary@component, period@secondary@component, compute_times@lc01@dataset, phases_period@lc01@dataset, phases_dpdt@lc01@dataset, phases_t0@lc01@dataset, compute_phases@lc01@dataset\n",
      "\n",
      "Parameter: teffratio@binary@component\n",
      "                       Qualifier: teffratio\n",
      "                     Description: ratio between effective temperatures of children stars\n",
      "                           Value: 0.65\n",
      "                  Constrained by: \n",
      "                      Constrains: teff@primary@component\n",
      "                      Related to: teff@secondary@component, teff@primary@component\n",
      "\n",
      "Parameter: requivsumfrac@binary@component\n",
      "                       Qualifier: requivsumfrac\n",
      "                     Description: sum of fractional equivalent radii of children stars\n",
      "                           Value: 0.483\n",
      "                  Constrained by: \n",
      "                      Constrains: requivratio@binary@component\n",
      "                      Related to: requiv@secondary@component, requiv@primary@component, requivratio@binary@component, sma@binary@component\n",
      "\n"
     ]
    }
   ],
   "source": [
    "print(b[\"ecc@binary\"])\n",
    "print(b[\"q@binary\"])\n",
    "print(b[\"incl@binary\"])\n",
    "print(b[\"period@binary\"])\n",
    "print(b['teffratio@binary'])\n",
    "print(b[\"requivsumfrac@binary@orbit@component\"])"
   ]
  },
  {
   "cell_type": "markdown",
   "metadata": {},
   "source": [
    "This next cell actually computes the model:"
   ]
  },
  {
   "cell_type": "code",
   "execution_count": 19,
   "metadata": {},
   "outputs": [
    {
     "name": "stderr",
     "output_type": "stream",
     "text": [
      "100%|██████████| 1000/1000 [00:21<00:00, 46.48it/s]\n",
      "/var/folders/34/3847lqd14j78mfm70_z1c_r00000gn/T/ipykernel_50904/2596823045.py:4: UserWarning: FigureCanvasAgg is non-interactive, and thus cannot be shown\n",
      "  plt.show()\n"
     ]
    }
   ],
   "source": [
    "# b.run_compute(irrad_method='none')\n",
    "b.run_compute()\n",
    "b.plot(x='phase', save = 'pbtest2.png')\n",
    "plt.show()"
   ]
  },
  {
   "cell_type": "markdown",
   "metadata": {},
   "source": [
    "This next cell allows you to view the lightcurve in the figure 'pbtest.png' which will be in the same directory as where you run this file. There's some matplotlib issue that I can't figure out how to solve right now that doesn't allow the figure to be shown in this notebook."
   ]
  },
  {
   "cell_type": "code",
   "execution_count": 7,
   "metadata": {},
   "outputs": [
    {
     "name": "stderr",
     "output_type": "stream",
     "text": [
      "/opt/anaconda3/envs/phoebe_environment/lib/python3.13/site-packages/phoebe/dependencies/autofig/figure.py:627: UserWarning: FigureCanvasAgg is non-interactive, and thus cannot be shown\n",
      "  plt.show()  # <-- blocking\n",
      "/var/folders/34/3847lqd14j78mfm70_z1c_r00000gn/T/ipykernel_50904/1770872199.py:3: UserWarning: FigureCanvasAgg is non-interactive, and thus cannot be shown\n",
      "  plt.show(block=False)\n"
     ]
    }
   ],
   "source": [
    "plotter = b.plot(x='phase',  ylabel = 'Relative flux', xlabel = 'Phase', show=True, save = 'pbtest.png')\n",
    "# plt.ion()\n",
    "plt.show(block=False)"
   ]
  },
  {
   "cell_type": "markdown",
   "metadata": {},
   "source": [
    "You can then save an output file (format is by default JSON) of the binary model:"
   ]
  },
  {
   "cell_type": "code",
   "execution_count": 11,
   "metadata": {},
   "outputs": [
    {
     "name": "stdout",
     "output_type": "stream",
     "text": [
      "model.JSON\n"
     ]
    }
   ],
   "source": [
    "print(b.save('model.JSON'))"
   ]
  },
  {
   "cell_type": "code",
   "execution_count": 20,
   "metadata": {},
   "outputs": [],
   "source": [
    "# extract fluxes as a fxn of time then cubic spline interpolate "
   ]
  },
  {
   "cell_type": "markdown",
   "metadata": {},
   "source": [
    "Statistical methods can now be performed on this file, such as MCMC (see https://phoebe-project.org/docs/2.4/tutorials/emcee)."
   ]
  },
  {
   "cell_type": "markdown",
   "metadata": {},
   "source": [
    "### Below is my trial zone of different things - may not work and may not be included in our final outcomes."
   ]
  },
  {
   "cell_type": "code",
   "execution_count": 12,
   "metadata": {},
   "outputs": [
    {
     "name": "stderr",
     "output_type": "stream",
     "text": [
      "Thu, 20 Feb 2025 11:46 BUNDLE       WARNING mesh dataset uses 'compute_times' instead of 'times', applying value sent as 'times' to 'compute_times'.\n"
     ]
    },
    {
     "data": {
      "text/plain": [
       "<ParameterSet: 10 parameters | contexts: constraint, compute, dataset>"
      ]
     },
     "execution_count": 12,
     "metadata": {},
     "output_type": "execute_result"
    }
   ],
   "source": [
    "# b.add_dataset('mesh', times=pb.linspace(0,2.71,101), columns=['teffs'])\n",
    "b.add_dataset('mesh', times=[0, 0.50, 1.0, 1.5, 2.0, 2.5], columns=['teffs'])"
   ]
  },
  {
   "cell_type": "code",
   "execution_count": 13,
   "metadata": {},
   "outputs": [
    {
     "ename": "ValueError",
     "evalue": "Nothing could be found to plot.  Check all arguments.",
     "output_type": "error",
     "traceback": [
      "\u001b[0;31m---------------------------------------------------------------------------\u001b[0m",
      "\u001b[0;31mValueError\u001b[0m                                Traceback (most recent call last)",
      "\u001b[0;32m/var/folders/34/3847lqd14j78mfm70_z1c_r00000gn/T/ipykernel_50904/2569770871.py\u001b[0m in \u001b[0;36m?\u001b[0;34m()\u001b[0m\n\u001b[0;32m----> 1\u001b[0;31m \u001b[0mafig\u001b[0m\u001b[0;34m,\u001b[0m \u001b[0mmplfig\u001b[0m \u001b[0;34m=\u001b[0m \u001b[0mb\u001b[0m\u001b[0;34m.\u001b[0m\u001b[0mfilter\u001b[0m\u001b[0;34m(\u001b[0m\u001b[0mtime\u001b[0m\u001b[0;34m=\u001b[0m\u001b[0;36m1.0\u001b[0m\u001b[0;34m)\u001b[0m\u001b[0;34m.\u001b[0m\u001b[0mplot\u001b[0m\u001b[0;34m(\u001b[0m\u001b[0mfc\u001b[0m\u001b[0;34m=\u001b[0m\u001b[0;34m'teffs'\u001b[0m\u001b[0;34m,\u001b[0m \u001b[0msave\u001b[0m\u001b[0;34m=\u001b[0m\u001b[0;34m'trial.png'\u001b[0m\u001b[0;34m)\u001b[0m\u001b[0;34m\u001b[0m\u001b[0;34m\u001b[0m\u001b[0m\n\u001b[0m",
      "\u001b[0;32m/opt/anaconda3/envs/phoebe_environment/lib/python3.13/site-packages/phoebe/parameters/parameters.py\u001b[0m in \u001b[0;36m?\u001b[0;34m(self, twig, **kwargs)\u001b[0m\n\u001b[1;32m   5966\u001b[0m                                           \u001b[0manimate_callback\u001b[0m\u001b[0;34m=\u001b[0m\u001b[0manimate_callback\u001b[0m\u001b[0;34m,\u001b[0m\u001b[0;34m\u001b[0m\u001b[0;34m\u001b[0m\u001b[0m\n\u001b[1;32m   5967\u001b[0m                                           \u001b[0;34m**\u001b[0m\u001b[0mkwargs\u001b[0m\u001b[0;34m)\u001b[0m\u001b[0;34m\u001b[0m\u001b[0;34m\u001b[0m\u001b[0m\n\u001b[1;32m   5968\u001b[0m             \u001b[0;32mexcept\u001b[0m \u001b[0mException\u001b[0m \u001b[0;32mas\u001b[0m \u001b[0merr\u001b[0m\u001b[0;34m:\u001b[0m\u001b[0;34m\u001b[0m\u001b[0;34m\u001b[0m\u001b[0m\n\u001b[1;32m   5969\u001b[0m                 \u001b[0mself\u001b[0m\u001b[0;34m.\u001b[0m\u001b[0mclf\u001b[0m\u001b[0;34m(\u001b[0m\u001b[0;34m)\u001b[0m\u001b[0;34m\u001b[0m\u001b[0;34m\u001b[0m\u001b[0m\n\u001b[0;32m-> 5970\u001b[0;31m                 \u001b[0;32mraise\u001b[0m\u001b[0;34m\u001b[0m\u001b[0;34m\u001b[0m\u001b[0m\n\u001b[0m\u001b[1;32m   5971\u001b[0m         \u001b[0;32melse\u001b[0m\u001b[0;34m:\u001b[0m\u001b[0;34m\u001b[0m\u001b[0;34m\u001b[0m\u001b[0m\n\u001b[1;32m   5972\u001b[0m             \u001b[0mafig\u001b[0m \u001b[0;34m=\u001b[0m \u001b[0mself\u001b[0m\u001b[0;34m.\u001b[0m\u001b[0mgcf\u001b[0m\u001b[0;34m(\u001b[0m\u001b[0;34m)\u001b[0m\u001b[0;34m\u001b[0m\u001b[0;34m\u001b[0m\u001b[0m\n\u001b[1;32m   5973\u001b[0m             \u001b[0;32mif\u001b[0m \u001b[0;32mnot\u001b[0m \u001b[0mlen\u001b[0m\u001b[0;34m(\u001b[0m\u001b[0mafig\u001b[0m\u001b[0;34m.\u001b[0m\u001b[0maxes\u001b[0m\u001b[0;34m)\u001b[0m\u001b[0;34m:\u001b[0m\u001b[0;34m\u001b[0m\u001b[0;34m\u001b[0m\u001b[0m\n",
      "\u001b[0;32m/opt/anaconda3/envs/phoebe_environment/lib/python3.13/site-packages/phoebe/parameters/parameters.py\u001b[0m in \u001b[0;36m?\u001b[0;34m(self, save, show, animate, fig, draw_sidebars, draw_title, tight_layout, subplot_grid, **kwargs)\u001b[0m\n\u001b[1;32m   6070\u001b[0m             \u001b[0;31m#             time.append(t)\u001b[0m\u001b[0;34m\u001b[0m\u001b[0;34m\u001b[0m\u001b[0m\n\u001b[1;32m   6071\u001b[0m \u001b[0;34m\u001b[0m\u001b[0m\n\u001b[1;32m   6072\u001b[0m             \u001b[0mafig\u001b[0m \u001b[0;34m=\u001b[0m \u001b[0mself\u001b[0m\u001b[0;34m.\u001b[0m\u001b[0mgcf\u001b[0m\u001b[0;34m(\u001b[0m\u001b[0;34m)\u001b[0m\u001b[0;34m\u001b[0m\u001b[0;34m\u001b[0m\u001b[0m\n\u001b[1;32m   6073\u001b[0m             \u001b[0;32mif\u001b[0m \u001b[0;32mnot\u001b[0m \u001b[0mlen\u001b[0m\u001b[0;34m(\u001b[0m\u001b[0mafig\u001b[0m\u001b[0;34m.\u001b[0m\u001b[0maxes\u001b[0m\u001b[0;34m)\u001b[0m\u001b[0;34m:\u001b[0m\u001b[0;34m\u001b[0m\u001b[0;34m\u001b[0m\u001b[0m\n\u001b[0;32m-> 6074\u001b[0;31m                 \u001b[0;32mraise\u001b[0m \u001b[0mValueError\u001b[0m\u001b[0;34m(\u001b[0m\u001b[0;34m\"Nothing could be found to plot.  Check all arguments.\"\u001b[0m\u001b[0;34m)\u001b[0m\u001b[0;34m\u001b[0m\u001b[0;34m\u001b[0m\u001b[0m\n\u001b[0m\u001b[1;32m   6075\u001b[0m \u001b[0;34m\u001b[0m\u001b[0m\n\u001b[1;32m   6076\u001b[0m \u001b[0;34m\u001b[0m\u001b[0m\n\u001b[1;32m   6077\u001b[0m             \u001b[0mlogger\u001b[0m\u001b[0;34m.\u001b[0m\u001b[0minfo\u001b[0m\u001b[0;34m(\u001b[0m\u001b[0;34m\"calling autofig.draw(i={}, draw_sidebars={}, draw_title={}, tight_layout={}, save={}, show={})\"\u001b[0m\u001b[0;34m.\u001b[0m\u001b[0mformat\u001b[0m\u001b[0;34m(\u001b[0m\u001b[0mtime\u001b[0m\u001b[0;34m,\u001b[0m \u001b[0mdraw_sidebars\u001b[0m\u001b[0;34m,\u001b[0m \u001b[0mdraw_title\u001b[0m\u001b[0;34m,\u001b[0m \u001b[0mtight_layout\u001b[0m\u001b[0;34m,\u001b[0m \u001b[0msave\u001b[0m\u001b[0;34m,\u001b[0m \u001b[0mshow\u001b[0m\u001b[0;34m)\u001b[0m\u001b[0;34m)\u001b[0m\u001b[0;34m\u001b[0m\u001b[0;34m\u001b[0m\u001b[0m\n",
      "\u001b[0;31mValueError\u001b[0m: Nothing could be found to plot.  Check all arguments."
     ]
    }
   ],
   "source": [
    "afig, mplfig = b.filter(time=1.0).plot(fc='teffs', save='trial.png')"
   ]
  },
  {
   "cell_type": "code",
   "execution_count": null,
   "metadata": {},
   "outputs": [],
   "source": []
  },
  {
   "cell_type": "code",
   "execution_count": null,
   "metadata": {},
   "outputs": [],
   "source": []
  }
 ],
 "metadata": {
  "kernelspec": {
   "display_name": "phoebe_environment",
   "language": "python",
   "name": "python3"
  },
  "language_info": {
   "codemirror_mode": {
    "name": "ipython",
    "version": 3
   },
   "file_extension": ".py",
   "mimetype": "text/x-python",
   "name": "python",
   "nbconvert_exporter": "python",
   "pygments_lexer": "ipython3",
   "version": "3.13.1"
  }
 },
 "nbformat": 4,
 "nbformat_minor": 2
}
