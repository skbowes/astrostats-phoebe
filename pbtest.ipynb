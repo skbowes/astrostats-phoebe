{
 "cells": [
  {
   "cell_type": "code",
   "execution_count": 1,
   "metadata": {},
   "outputs": [],
   "source": [
    "import phoebe as pb\n",
    "from phoebe import u\n",
    "import numpy as np\n",
    "import matplotlib.pyplot as plt"
   ]
  },
  {
   "cell_type": "markdown",
   "metadata": {},
   "source": []
  },
  {
   "cell_type": "markdown",
   "metadata": {},
   "source": [
    "This next cell has to be run in order to get around a bug that is in the PHOEBE code itself (see the latest Git issue tag for explanation)."
   ]
  },
  {
   "cell_type": "code",
   "execution_count": 3,
   "metadata": {},
   "outputs": [],
   "source": [
    "pb.atmospheres.passbands._url_tables_server = 'https://staging.phoebe-project.org'\n",
    "pb.list_online_passbands(refresh=True)\n",
    "pb.list_all_update_passbands_available()\n",
    "pb.update_all_passbands()\n"
   ]
  },
  {
   "cell_type": "markdown",
   "metadata": {},
   "source": [
    "This initiates a default binary system that you can change the parameter values of. The dataset is an empty dataset that generates a list of times and any changes to parameters will be added to this dataset (I believe)."
   ]
  },
  {
   "cell_type": "code",
   "execution_count": 4,
   "metadata": {},
   "outputs": [
    {
     "data": {
      "text/plain": [
       "<ParameterSet: 80 parameters | contexts: constraint, dataset, compute, figure>"
      ]
     },
     "execution_count": 4,
     "metadata": {},
     "output_type": "execute_result"
    }
   ],
   "source": [
    "logger = pb.logger()\n",
    "b = pb.default_binary()\n",
    "b.add_dataset('lc', times=pb.linspace(0,1,101), dataset='lc01', overwrite=True)"
   ]
  },
  {
   "cell_type": "markdown",
   "metadata": {},
   "source": [
    "There's a couple different ways that you can set parameter values. Below is how I set them.\n",
    "There's a lot of parameters that are set to default values, so you don't need to set them all."
   ]
  },
  {
   "cell_type": "markdown",
   "metadata": {},
   "source": [
    "If you want to see what the default values are, you can use the command `print(b.filter())` to see all the parameters that are set to default values.\n",
    "Changing the value of a parameter is as simple as `b['parameter_name'] = value`. For example, `b['q'] = 0.5` would set the mass ratio to 0.5.\n",
    "If you want to see what parameters are available for a given component, you can use the command `print(b['component_name'].filter())`. For example, `print(b['primary'].filter())` would show you all the parameters that are available for the primary component.\n",
    "If you want to see what parameters are available for a given dataset, you can use the command `print(b['dataset_name'].filter())`. For example, `print(b['lc01'].filter())` would show you all the parameters that are available for the lc01 dataset.\n",
    "If you want to see what parameters are available for a given constraint, you can use the command `print(b['constraint_name'].filter())`. For example, `print(b['requiv@primary'].filter())` would show you all the parameters that are available for the requiv@primary constraint."
   ]
  },
  {
   "cell_type": "markdown",
   "metadata": {},
   "source": [
    "You cannot set some parameters immediately without addressing hierarchy. For example, you cannot set `b['mass'] = 1.0` because mass is a parameter of the primary and secondary components. You would need to set `b['mass@primary'] = 1.0` instead.\n",
    "Sometimes you can't set a parameter without 'flipping' the hierarchy. You'll know you're running into this problem if you get the error \"ValueError: cannot change the value of a constrained parameter.\" If you run into issues, you can look at this tutorial:\n",
    "https://phoebe-project.org/docs/2.4/tutorials/constraints_hierarchies"
   ]
  },
  {
   "cell_type": "markdown",
   "metadata": {},
   "source": [
    "I left in some other lines of how to flip and set some other parameters. If you uncomment them here there's no promise they work in this order but you can at least see how to set them"
   ]
  },
  {
   "cell_type": "code",
   "execution_count": 5,
   "metadata": {},
   "outputs": [
    {
     "name": "stdout",
     "output_type": "stream",
     "text": [
      "ParameterSet: 187 parameters\n",
      "                        t0@system: 0.0 d\n",
      "                        ra@system: 0.0 deg\n",
      "                       dec@system: 0.0 deg\n",
      "                  distance@system: 1.0 m\n",
      "                    vgamma@system: 0.0 km / s\n",
      "C                      ebv@system: 0.0\n",
      "                        Av@system: 0.0\n",
      "                        Rv@system: 3.1\n",
      "                 hierarchy@system: orbit:binary(star:primary, star:secondary)\n",
      "         requiv@primary@component: 1.0 solRad\n",
      "C    requiv_max@primary@component: 1.5462069723476948 solRad\n",
      "           teff@primary@component: 7500.0 K\n",
      "           abun@primary@component: 0.0\n",
      "C          logg@primary@component: 4.437551868254479\n",
      "        syncpar@primary@component: 1.0\n",
      "C        period@primary@component: 1.0 d\n",
      "C          freq@primary@component: 6.283185307179586 rad / d\n",
      "          pitch@primary@component: 0.0 deg\n",
      "            yaw@primary@component: 0.0 deg\n",
      "C          incl@primary@component: 90.0 deg\n",
      "C       long_an@primary@component: 0.0 deg\n",
      "      gravb_bol@primary@component: 0.32\n",
      "   irrad_frac_refl_bol@primary...: 0.6\n",
      "C  irrad_frac_lost_bol@primary...: 0.4\n",
      "    ld_mode_bol@primary@component: lookup\n",
      "    ld_func_bol@primary@component: logarithmic\n",
      "   ld_coeffs_source_bol@primar...: auto\n",
      "C          mass@primary@component: 0.9988131257959815 solMass\n",
      "       requiv@secondary@component: 1.0 solRad\n",
      "C  requiv_max@secondary@component: 1.5462069723476948 solRad\n",
      "         teff@secondary@component: 6000.0 K\n",
      "         abun@secondary@component: 0.0\n",
      "C        logg@secondary@component: 4.437551868254479\n",
      "      syncpar@secondary@component: 1.0\n",
      "C      period@secondary@component: 1.0 d\n",
      "C        freq@secondary@component: 6.283185307179586 rad / d\n",
      "        pitch@secondary@component: 0.0 deg\n",
      "          yaw@secondary@component: 0.0 deg\n",
      "C        incl@secondary@component: 90.0 deg\n",
      "C     long_an@secondary@component: 0.0 deg\n",
      "    gravb_bol@secondary@component: 0.32\n",
      "   irrad_frac_refl_bol@seconda...: 0.6\n",
      "C  irrad_frac_lost_bol@seconda...: 0.4\n",
      "   ld_mode_bol@secondary@compo...: lookup\n",
      "   ld_func_bol@secondary@compo...: logarithmic\n",
      "   ld_coeffs_source_bol@second...: auto\n",
      "C        mass@secondary@component: 0.9988131257959815 solMass\n",
      "          period@binary@component: 1.0 d\n",
      "C           freq@binary@component: 6.283185307179586 rad / d\n",
      "            dpdt@binary@component: 0.0 s / yr\n",
      "            per0@binary@component: 0.0 deg\n",
      "          dperdt@binary@component: 0.0 deg / yr\n",
      "             ecc@binary@component: 0.26\n",
      "C     t0_perpass@binary@component: -0.16818155632364187 d\n",
      "      t0_supconj@binary@component: 0.0 d\n",
      "C         t0_ref@binary@component: 0.08181844367635813 d\n",
      "C      mean_anom@binary@component: 60.545360276511076 deg\n",
      "            incl@binary@component: 90.0 deg\n",
      "               q@binary@component: 1.0\n",
      "             sma@binary@component: 5.3 solRad\n",
      "         long_an@binary@component: 0.0 deg\n",
      "C          asini@binary@component: 5.3 solRad\n",
      "C          ecosw@binary@component: 0.26\n",
      "C          esinw@binary@component: 0.0\n",
      "C      teffratio@binary@component: 0.8\n",
      "C    requivratio@binary@component: 1.0\n",
      "C  requivsumfrac@binary@component: 0.37735849056603776\n",
      "C           sma@primary@component: 2.65 solRad\n",
      "C         asini@primary@component: 2.65 solRad\n",
      "C         sma@secondary@component: 2.65 solRad\n",
      "C       asini@secondary@component: 2.65 solRad\n",
      "                   ebv@constraint: {Av@system} / {Rv@system}\n",
      "          freq@primary@constraint: 6.28318530717958623e+00 / {period@primary@component}\n",
      "          logg@primary@constraint: log10((({mass@primary@component} / ({requiv@primary@component} ** 2.000000)) * 2.94220621750441933e+03) * 9.31954089506172778e+00)\n",
      "   irrad_frac_lost_bol@primary...: 1.00000000000000000e+00 - {irrad_frac_refl_bol@primary@component}\n",
      "        freq@secondary@constraint: 6.28318530717958623e+00 / {period@secondary@component}\n",
      "        logg@secondary@constraint: log10((({mass@secondary@component} / ({requiv@secondary@component} ** 2.000000)) * 2.94220621750441933e+03) * 9.31954089506172778e+00)\n",
      "   irrad_frac_lost_bol@seconda...: 1.00000000000000000e+00 - {irrad_frac_refl_bol@secondary@component}\n",
      "          asini@binary@constraint: {sma@binary@component} * (sin({incl@binary@component}))\n",
      "            t0_perpass@constraint: t0_supconj_to_perpass({t0_supconj@binary@component}, {period@binary@component}, {ecc@binary@component}, {per0@binary@component}, {dpdt@binary@component}, {dperdt@binary@component}, {t0@system})\n",
      "                t0_ref@constraint: t0_supconj_to_ref({t0_supconj@binary@component}, {period@binary@component}, {ecc@binary@component}, {per0@binary@component}, {dpdt@binary@component}, {dperdt@binary@component}, {t0@system})\n",
      "             mean_anom@constraint: (6.28318530717958623e+00 * ({t0@system} - {t0_perpass@binary@component})) / {period@binary@component}\n",
      "                 ecosw@constraint: {ecc@binary@component} * (cos({per0@binary@component}))\n",
      "                 esinw@constraint: {ecc@binary@component} * (sin({per0@binary@component}))\n",
      "           freq@binary@constraint: 6.28318530717958623e+00 / {period@binary@component}\n",
      "             teffratio@constraint: {teff@secondary@component} / {teff@primary@component}\n",
      "           requivratio@constraint: {requiv@secondary@component} / {requiv@primary@component}\n",
      "         requivsumfrac@constraint: ({requiv@primary@component} + {requiv@secondary@component}) / {sma@binary@component}\n",
      "          mass@primary@constraint: (3.94784176043574320e+01 * ({sma@binary@component} ** 3.000000)) / ((({period@binary@component} ** 2.000000) * ({q@binary@component} + 1.000000)) * 2.94220621750441933e+03)\n",
      "           sma@primary@constraint: {sma@binary@component} / ((1.00000000000000000e+00 / {q@binary@component}) + 1.00000000000000000e+00)\n",
      "         asini@primary@constraint: ({sma@binary@component} * (sin({incl@binary@component}))) / ((1.00000000000000000e+00 / {q@binary@component}) + 1.00000000000000000e+00)\n",
      "        period@primary@constraint: {period@binary@component} / {syncpar@primary@component}\n",
      "          incl@primary@constraint: {incl@binary@component} + {pitch@primary@component}\n",
      "       long_an@primary@constraint: {long_an@binary@component} + {yaw@primary@component}\n",
      "    requiv_max@primary@constraint: requiv_L1({q@binary@component}, {syncpar@primary@component}, {ecc@binary@component}, {sma@binary@component}, {incl@primary@component}, {long_an@primary@component}, {incl@binary@component}, {long_an@binary@component}, 1)\n",
      "        mass@secondary@constraint: (3.94784176043574320e+01 * ({sma@binary@component} ** 3.000000)) / ((({period@binary@component} ** 2.000000) * ((1.00000000000000000e+00 / {q@binary@component}) + 1.00000000000000000e+00)) * 2.94220621750441933e+03)\n",
      "         sma@secondary@constraint: {sma@binary@component} / ({q@binary@component} + 1.000000)\n",
      "       asini@secondary@constraint: ({sma@binary@component} * (sin({incl@binary@component}))) / ({q@binary@component} + 1.000000)\n",
      "      period@secondary@constraint: {period@binary@component} / {syncpar@secondary@component}\n",
      "        incl@secondary@constraint: {incl@binary@component} + {pitch@secondary@component}\n",
      "     long_an@secondary@constraint: {long_an@binary@component} + {yaw@secondary@component}\n",
      "   requiv_max@secondary@constr...: requiv_L1({q@binary@component}, {syncpar@secondary@component}, {ecc@binary@component}, {sma@binary@component}, {incl@secondary@component}, {long_an@secondary@component}, {incl@binary@component}, {long_an@binary@component}, 2)\n",
      "     sample_from@phoebe01@compute: []\n",
      "        comments@phoebe01@compute: \n",
      "      use_server@phoebe01@compute: none\n",
      "   dynamics_method@phoebe01@co...: keplerian\n",
      "            ltte@phoebe01@compute: False\n",
      "    irrad_method@phoebe01@compute: horvat\n",
      "   boosting_method@phoebe01@co...: none\n",
      "   eclipse_method@phoebe01@com...: native\n",
      "   horizon_method@phoebe01@com...: boolean\n",
      "   mesh_method@primary@phoebe0...: marching\n",
      "   mesh_method@secondary@phoeb...: marching\n",
      "   ntriangles@primary@phoebe01...: 1500\n",
      "   ntriangles@secondary@phoebe...: 1500\n",
      "   distortion_method@primary@p...: roche\n",
      "   distortion_method@secondary...: roche\n",
      "     atm@primary@phoebe01@compute: ck2004\n",
      "   atm@secondary@phoebe01@compute: ck2004\n",
      "       default_time_source@figure: None\n",
      "        latex_repr@primary@figure: \n",
      "             color@primary@figure: blue\n",
      "            marker@primary@figure: .\n",
      "         linestyle@primary@figure: solid\n",
      "      latex_repr@secondary@figure: \n",
      "           color@secondary@figure: orange\n",
      "          marker@secondary@figure: o\n",
      "       linestyle@secondary@figure: dashed\n",
      "         latex_repr@binary@figure: \n",
      "R          phoebe_version@setting: 2.4.17\n",
      "              dict_filter@setting: {}\n",
      "             dict_set_all@setting: False\n",
      "       run_checks_compute@setting: ['*']\n",
      "        run_checks_solver@setting: ['*']\n",
      "      run_checks_solution@setting: ['*']\n",
      "        run_checks_figure@setting: ['*']\n",
      "        run_checks_server@setting: ['*']\n",
      "          auto_add_figure@setting: True\n",
      "       auto_remove_figure@setting: True\n",
      "               web_client@setting: False\n",
      "           web_client_url@setting: ui.phoebe-project.org\n",
      "               times@lc01@dataset: [0.   0.01 0.02 ... 0.98 0.99 1.  ] d\n",
      "              fluxes@lc01@dataset: [] W / m2\n",
      "            passband@lc01@dataset: Johnson:V\n",
      "    intens_weighting@lc01@dataset: energy\n",
      "       compute_times@lc01@dataset: [] d\n",
      "C     compute_phases@lc01@dataset: []\n",
      "           phases_t0@lc01@dataset: t0_supconj\n",
      "        mask_enabled@lc01@dataset: True\n",
      "         mask_phases@lc01@dataset: []\n",
      "        solver_times@lc01@dataset: auto\n",
      "              sigmas@lc01@dataset: [] W / m2\n",
      "          pblum_mode@lc01@dataset: component-coupled\n",
      "     pblum_component@lc01@dataset: primary\n",
      "             l3_mode@lc01@dataset: flux\n",
      "                  l3@lc01@dataset: 0.0 W / m2\n",
      "             exptime@lc01@dataset: 0.0 s\n",
      "         enabled@phoebe01@compute: True\n",
      "      fti_method@phoebe01@compute: none\n",
      "     ld_mode@primary@lc01@dataset: interp\n",
      "   ld_mode@secondary@lc01@dataset: interp\n",
      "       pblum@primary@lc01@dataset: 12.566370614359172 W\n",
      "        compute_phases@constraint: times_to_phases({compute_times@lc01@dataset}, {phases_period@lc01@dataset}, {period@binary@component}, {period_anom@binary@component}, {phases_dpdt@lc01@dataset}, {dpdt@binary@component}, {phases_t0@lc01@dataset}, {t0_supconj@binary@component}, {t0_perpass@binary@component}, {t0_ref@binary@component})\n",
      "           latex_repr@lc01@figure: \n",
      "                color@lc01@figure: black\n",
      "               marker@lc01@figure: .\n",
      "            linestyle@lc01@figure: solid\n",
      "          contexts@lcfig01@figure: ['*']\n",
      "          datasets@lcfig01@figure: ['*']\n",
      "            models@lcfig01@figure: ['*']\n",
      "                 x@lcfig01@figure: times\n",
      "                 y@lcfig01@figure: fluxes\n",
      "     xlabel_source@lcfig01@figure: auto\n",
      "      xunit_source@lcfig01@figure: auto\n",
      "       xlim_source@lcfig01@figure: auto\n",
      "     ylabel_source@lcfig01@figure: auto\n",
      "      yunit_source@lcfig01@figure: auto\n",
      "       ylim_source@lcfig01@figure: auto\n",
      "      color_source@lcfig01@figure: model\n",
      "     marker_source@lcfig01@figure: manual\n",
      "            marker@lcfig01@figure: .\n",
      "   linestyle_source@lcfig01@fi...: manual\n",
      "         linestyle@lcfig01@figure: solid\n",
      "            legend@lcfig01@figure: True\n",
      "           uncover@lcfig01@figure: False\n",
      "         highlight@lcfig01@figure: True\n",
      "       time_source@lcfig01@figure: default\n"
     ]
    }
   ],
   "source": [
    "\n",
    "#binary parameters\n",
    "b[\"ecc@binary\"] = 0.26\n",
    "b[\"q@binary\"] = 1\n",
    "# b[\"incl@binary\"] = 79.5\n",
    "# b[\"per0\"] = 275 *u.deg\n",
    "# b['teffratio@binary'] = 0.21\n",
    "\n",
    "\n",
    "#primary parameters\n",
    "b.flip_constraint(\"sma@binary\", solve_for=\"mass\")\n",
    "b[\"mass@primary@component\"] = 13.5\n",
    "b[\"requiv@primary\"] = 1 \n",
    "b[\"teff@primary\"] = 7500\n",
    "# b.flip_constraint(\"logg@primary\", solve_for=\"requiv@primary\")\n",
    "# b.flip_constraint(\"requiv@primary\",solve_for=\"logg@primary\")\n",
    "\n",
    "#secondary parameters\n",
    "# b.flip_constraint(\"mass@secondary\", solve_for=\"q\")\n",
    "# b[\"mass@secondary@component\"] = 1.8\n",
    "\n",
    "print(b.filter())"
   ]
  },
  {
   "cell_type": "markdown",
   "metadata": {},
   "source": [
    "This next cell actually computes the model:"
   ]
  },
  {
   "cell_type": "code",
   "execution_count": 6,
   "metadata": {},
   "outputs": [
    {
     "name": "stderr",
     "output_type": "stream",
     "text": [
      "100%|██████████| 101/101 [00:01<00:00, 82.00it/s]\n"
     ]
    },
    {
     "data": {
      "text/plain": [
       "<ParameterSet: 3 parameters | qualifiers: fluxes, times, comments>"
      ]
     },
     "execution_count": 6,
     "metadata": {},
     "output_type": "execute_result"
    }
   ],
   "source": [
    "b.run_compute(irrad_method='none')"
   ]
  },
  {
   "cell_type": "markdown",
   "metadata": {},
   "source": [
    "This next cell allows you to view the lightcurve in the figure 'pbtest.png' which will be in the same directory as where you run this file. There's some matplotlib issue that I can't figure out how to solve right now that doesn't allow the figure to be shown in this notebook."
   ]
  },
  {
   "cell_type": "code",
   "execution_count": 7,
   "metadata": {},
   "outputs": [
    {
     "name": "stderr",
     "output_type": "stream",
     "text": [
      "/opt/anaconda3/envs/phoebe_environment/lib/python3.13/site-packages/phoebe/dependencies/autofig/figure.py:627: UserWarning: FigureCanvasAgg is non-interactive, and thus cannot be shown\n",
      "  plt.show()  # <-- blocking\n",
      "/var/folders/34/3847lqd14j78mfm70_z1c_r00000gn/T/ipykernel_19762/3563954529.py:3: UserWarning: FigureCanvasAgg is non-interactive, and thus cannot be shown\n",
      "  plt.show(block=False)\n"
     ]
    }
   ],
   "source": [
    "plotter = b.plot(x='phase',  ylabel = 'Normalized Flux', xlabel = 'Phase', show=True, save = 'pbtest.png')\n",
    "# plt.ion()\n",
    "plt.show(block=False)"
   ]
  },
  {
   "cell_type": "markdown",
   "metadata": {},
   "source": [
    "You can then save an output file (format is by default JSON) of the binary:"
   ]
  },
  {
   "cell_type": "code",
   "execution_count": null,
   "metadata": {},
   "outputs": [],
   "source": [
    "print(b.save('test.phoebe'))"
   ]
  }
 ],
 "metadata": {
  "kernelspec": {
   "display_name": "phoebe_environment",
   "language": "python",
   "name": "python3"
  },
  "language_info": {
   "codemirror_mode": {
    "name": "ipython",
    "version": 3
   },
   "file_extension": ".py",
   "mimetype": "text/x-python",
   "name": "python",
   "nbconvert_exporter": "python",
   "pygments_lexer": "ipython3",
   "version": "3.13.1"
  }
 },
 "nbformat": 4,
 "nbformat_minor": 2
}
