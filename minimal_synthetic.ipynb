{
 "cells": [
  {
   "cell_type": "markdown",
   "metadata": {},
   "source": [
    "Minimal Example to Produce a Synthetic Light Curve\n",
    "============================\n",
    "\n",
    "Setup\n",
    "-----------------------------"
   ]
  },
  {
   "cell_type": "markdown",
   "metadata": {},
   "source": [
    "Let's first make sure we have the latest version of PHOEBE 2.4 installed (uncomment this line if running in an online notebook session such as colab)."
   ]
  },
  {
   "cell_type": "code",
   "execution_count": 4,
   "metadata": {},
   "outputs": [
    {
     "name": "stdout",
     "output_type": "stream",
     "text": [
      "Collecting phoebe<2.5,>=2.4\n",
      "  Using cached phoebe-2.4.17-cp313-cp313-macosx_11_0_arm64.whl.metadata (41 kB)\n",
      "Collecting numpy (from phoebe<2.5,>=2.4)\n",
      "  Downloading numpy-2.2.2-cp313-cp313-macosx_14_0_arm64.whl.metadata (62 kB)\n",
      "Collecting scipy (from phoebe<2.5,>=2.4)\n",
      "  Using cached scipy-1.15.1-cp313-cp313-macosx_14_0_arm64.whl.metadata (61 kB)\n",
      "Collecting astropy (from phoebe<2.5,>=2.4)\n",
      "  Downloading astropy-7.0.1-cp313-cp313-macosx_11_0_arm64.whl.metadata (10 kB)\n",
      "Collecting pytest (from phoebe<2.5,>=2.4)\n",
      "  Using cached pytest-8.3.4-py3-none-any.whl.metadata (7.5 kB)\n",
      "Collecting tqdm (from phoebe<2.5,>=2.4)\n",
      "  Using cached tqdm-4.67.1-py3-none-any.whl.metadata (57 kB)\n",
      "Collecting corner (from phoebe<2.5,>=2.4)\n",
      "  Using cached corner-2.2.3-py3-none-any.whl.metadata (2.2 kB)\n",
      "Collecting requests (from phoebe<2.5,>=2.4)\n",
      "  Using cached requests-2.32.3-py3-none-any.whl.metadata (4.6 kB)\n",
      "Collecting python-socketio (from phoebe<2.5,>=2.4)\n",
      "  Using cached python_socketio-5.12.1-py3-none-any.whl.metadata (3.2 kB)\n",
      "Collecting flask (from phoebe<2.5,>=2.4)\n",
      "  Using cached flask-3.1.0-py3-none-any.whl.metadata (2.7 kB)\n",
      "Collecting flask-cors (from phoebe<2.5,>=2.4)\n",
      "  Using cached Flask_Cors-5.0.0-py2.py3-none-any.whl.metadata (5.5 kB)\n",
      "Collecting flask-socketio (from phoebe<2.5,>=2.4)\n",
      "  Using cached Flask_SocketIO-5.5.1-py3-none-any.whl.metadata (2.6 kB)\n",
      "Collecting gevent (from phoebe<2.5,>=2.4)\n",
      "  Using cached gevent-24.11.1-cp313-cp313-macosx_11_0_universal2.whl.metadata (13 kB)\n",
      "Collecting gevent-websocket (from phoebe<2.5,>=2.4)\n",
      "  Using cached gevent_websocket-0.10.1-py3-none-any.whl.metadata (5.3 kB)\n",
      "Collecting pyerfa>=2.0.1.1 (from astropy->phoebe<2.5,>=2.4)\n",
      "  Using cached pyerfa-2.0.1.5-cp39-abi3-macosx_11_0_arm64.whl.metadata (5.7 kB)\n",
      "Collecting astropy-iers-data>=0.2025.1.31.12.41.4 (from astropy->phoebe<2.5,>=2.4)\n",
      "  Downloading astropy_iers_data-0.2025.2.10.0.33.26-py3-none-any.whl.metadata (5.1 kB)\n",
      "Collecting PyYAML>=6.0.0 (from astropy->phoebe<2.5,>=2.4)\n",
      "  Using cached PyYAML-6.0.2-cp313-cp313-macosx_11_0_arm64.whl.metadata (2.1 kB)\n",
      "Collecting packaging>=22.0.0 (from astropy->phoebe<2.5,>=2.4)\n",
      "  Using cached packaging-24.2-py3-none-any.whl.metadata (3.2 kB)\n",
      "Collecting matplotlib>=2.1 (from corner->phoebe<2.5,>=2.4)\n",
      "  Using cached matplotlib-3.10.0-cp313-cp313-macosx_11_0_arm64.whl.metadata (11 kB)\n",
      "Collecting Werkzeug>=3.1 (from flask->phoebe<2.5,>=2.4)\n",
      "  Using cached werkzeug-3.1.3-py3-none-any.whl.metadata (3.7 kB)\n",
      "Collecting Jinja2>=3.1.2 (from flask->phoebe<2.5,>=2.4)\n",
      "  Using cached jinja2-3.1.5-py3-none-any.whl.metadata (2.6 kB)\n",
      "Collecting itsdangerous>=2.2 (from flask->phoebe<2.5,>=2.4)\n",
      "  Using cached itsdangerous-2.2.0-py3-none-any.whl.metadata (1.9 kB)\n",
      "Collecting click>=8.1.3 (from flask->phoebe<2.5,>=2.4)\n",
      "  Using cached click-8.1.8-py3-none-any.whl.metadata (2.3 kB)\n",
      "Collecting blinker>=1.9 (from flask->phoebe<2.5,>=2.4)\n",
      "  Using cached blinker-1.9.0-py3-none-any.whl.metadata (1.6 kB)\n",
      "Collecting bidict>=0.21.0 (from python-socketio->phoebe<2.5,>=2.4)\n",
      "  Using cached bidict-0.23.1-py3-none-any.whl.metadata (8.7 kB)\n",
      "Collecting python-engineio>=4.11.0 (from python-socketio->phoebe<2.5,>=2.4)\n",
      "  Using cached python_engineio-4.11.2-py3-none-any.whl.metadata (2.2 kB)\n",
      "Collecting zope.event (from gevent->phoebe<2.5,>=2.4)\n",
      "  Using cached zope.event-5.0-py3-none-any.whl.metadata (4.4 kB)\n",
      "Collecting zope.interface (from gevent->phoebe<2.5,>=2.4)\n",
      "  Using cached zope.interface-7.2-cp313-cp313-macosx_11_0_arm64.whl.metadata (44 kB)\n",
      "Collecting greenlet>=3.1.1 (from gevent->phoebe<2.5,>=2.4)\n",
      "  Using cached greenlet-3.1.1-cp313-cp313-macosx_11_0_universal2.whl.metadata (3.8 kB)\n",
      "Collecting iniconfig (from pytest->phoebe<2.5,>=2.4)\n",
      "  Using cached iniconfig-2.0.0-py3-none-any.whl.metadata (2.6 kB)\n",
      "Collecting pluggy<2,>=1.5 (from pytest->phoebe<2.5,>=2.4)\n",
      "  Using cached pluggy-1.5.0-py3-none-any.whl.metadata (4.8 kB)\n",
      "Collecting charset-normalizer<4,>=2 (from requests->phoebe<2.5,>=2.4)\n",
      "  Using cached charset_normalizer-3.4.1-cp313-cp313-macosx_10_13_universal2.whl.metadata (35 kB)\n",
      "Collecting idna<4,>=2.5 (from requests->phoebe<2.5,>=2.4)\n",
      "  Using cached idna-3.10-py3-none-any.whl.metadata (10 kB)\n",
      "Collecting urllib3<3,>=1.21.1 (from requests->phoebe<2.5,>=2.4)\n",
      "  Using cached urllib3-2.3.0-py3-none-any.whl.metadata (6.5 kB)\n",
      "Collecting certifi>=2017.4.17 (from requests->phoebe<2.5,>=2.4)\n",
      "  Using cached certifi-2025.1.31-py3-none-any.whl.metadata (2.5 kB)\n",
      "Collecting MarkupSafe>=2.0 (from Jinja2>=3.1.2->flask->phoebe<2.5,>=2.4)\n",
      "  Using cached MarkupSafe-3.0.2-cp313-cp313-macosx_11_0_arm64.whl.metadata (4.0 kB)\n",
      "Collecting contourpy>=1.0.1 (from matplotlib>=2.1->corner->phoebe<2.5,>=2.4)\n",
      "  Using cached contourpy-1.3.1-cp313-cp313-macosx_11_0_arm64.whl.metadata (5.4 kB)\n",
      "Collecting cycler>=0.10 (from matplotlib>=2.1->corner->phoebe<2.5,>=2.4)\n",
      "  Using cached cycler-0.12.1-py3-none-any.whl.metadata (3.8 kB)\n",
      "Collecting fonttools>=4.22.0 (from matplotlib>=2.1->corner->phoebe<2.5,>=2.4)\n",
      "  Downloading fonttools-4.56.0-cp313-cp313-macosx_10_13_universal2.whl.metadata (101 kB)\n",
      "Collecting kiwisolver>=1.3.1 (from matplotlib>=2.1->corner->phoebe<2.5,>=2.4)\n",
      "  Using cached kiwisolver-1.4.8-cp313-cp313-macosx_11_0_arm64.whl.metadata (6.2 kB)\n",
      "Collecting pillow>=8 (from matplotlib>=2.1->corner->phoebe<2.5,>=2.4)\n",
      "  Using cached pillow-11.1.0-cp313-cp313-macosx_11_0_arm64.whl.metadata (9.1 kB)\n",
      "Collecting pyparsing>=2.3.1 (from matplotlib>=2.1->corner->phoebe<2.5,>=2.4)\n",
      "  Using cached pyparsing-3.2.1-py3-none-any.whl.metadata (5.0 kB)\n",
      "Collecting python-dateutil>=2.7 (from matplotlib>=2.1->corner->phoebe<2.5,>=2.4)\n",
      "  Using cached python_dateutil-2.9.0.post0-py2.py3-none-any.whl.metadata (8.4 kB)\n",
      "Collecting simple-websocket>=0.10.0 (from python-engineio>=4.11.0->python-socketio->phoebe<2.5,>=2.4)\n",
      "  Using cached simple_websocket-1.1.0-py3-none-any.whl.metadata (1.5 kB)\n",
      "Collecting setuptools (from zope.event->gevent->phoebe<2.5,>=2.4)\n",
      "  Downloading setuptools-75.8.0-py3-none-any.whl.metadata (6.7 kB)\n",
      "Collecting six>=1.5 (from python-dateutil>=2.7->matplotlib>=2.1->corner->phoebe<2.5,>=2.4)\n",
      "  Using cached six-1.17.0-py2.py3-none-any.whl.metadata (1.7 kB)\n",
      "Collecting wsproto (from simple-websocket>=0.10.0->python-engineio>=4.11.0->python-socketio->phoebe<2.5,>=2.4)\n",
      "  Using cached wsproto-1.2.0-py3-none-any.whl.metadata (5.6 kB)\n",
      "Collecting h11<1,>=0.9.0 (from wsproto->simple-websocket>=0.10.0->python-engineio>=4.11.0->python-socketio->phoebe<2.5,>=2.4)\n",
      "  Using cached h11-0.14.0-py3-none-any.whl.metadata (8.2 kB)\n",
      "Using cached phoebe-2.4.17-cp313-cp313-macosx_11_0_arm64.whl (78.3 MB)\n",
      "Downloading astropy-7.0.1-cp313-cp313-macosx_11_0_arm64.whl (6.5 MB)\n",
      "\u001b[2K   \u001b[90m━━━━━━━━━━━━━━━━━━━━━━━━━━━━━━━━━━━━━━━━\u001b[0m \u001b[32m6.5/6.5 MB\u001b[0m \u001b[31m28.4 MB/s\u001b[0m eta \u001b[36m0:00:00\u001b[0ma \u001b[36m0:00:01\u001b[0m\n",
      "\u001b[?25hDownloading numpy-2.2.2-cp313-cp313-macosx_14_0_arm64.whl (5.1 MB)\n",
      "\u001b[2K   \u001b[90m━━━━━━━━━━━━━━━━━━━━━━━━━━━━━━━━━━━━━━━━\u001b[0m \u001b[32m5.1/5.1 MB\u001b[0m \u001b[31m47.4 MB/s\u001b[0m eta \u001b[36m0:00:00\u001b[0m\n",
      "\u001b[?25hUsing cached corner-2.2.3-py3-none-any.whl (15 kB)\n",
      "Using cached flask-3.1.0-py3-none-any.whl (102 kB)\n",
      "Using cached Flask_Cors-5.0.0-py2.py3-none-any.whl (14 kB)\n",
      "Using cached Flask_SocketIO-5.5.1-py3-none-any.whl (18 kB)\n",
      "Using cached python_socketio-5.12.1-py3-none-any.whl (76 kB)\n",
      "Using cached gevent-24.11.1-cp313-cp313-macosx_11_0_universal2.whl (2.9 MB)\n",
      "Using cached gevent_websocket-0.10.1-py3-none-any.whl (22 kB)\n",
      "Using cached pytest-8.3.4-py3-none-any.whl (343 kB)\n",
      "Using cached requests-2.32.3-py3-none-any.whl (64 kB)\n",
      "Using cached scipy-1.15.1-cp313-cp313-macosx_14_0_arm64.whl (24.8 MB)\n",
      "Using cached tqdm-4.67.1-py3-none-any.whl (78 kB)\n",
      "Downloading astropy_iers_data-0.2025.2.10.0.33.26-py3-none-any.whl (1.9 MB)\n",
      "\u001b[2K   \u001b[90m━━━━━━━━━━━━━━━━━━━━━━━━━━━━━━━━━━━━━━━━\u001b[0m \u001b[32m1.9/1.9 MB\u001b[0m \u001b[31m40.6 MB/s\u001b[0m eta \u001b[36m0:00:00\u001b[0m\n",
      "\u001b[?25hUsing cached bidict-0.23.1-py3-none-any.whl (32 kB)\n",
      "Using cached blinker-1.9.0-py3-none-any.whl (8.5 kB)\n",
      "Using cached certifi-2025.1.31-py3-none-any.whl (166 kB)\n",
      "Using cached charset_normalizer-3.4.1-cp313-cp313-macosx_10_13_universal2.whl (195 kB)\n",
      "Using cached click-8.1.8-py3-none-any.whl (98 kB)\n",
      "Using cached greenlet-3.1.1-cp313-cp313-macosx_11_0_universal2.whl (272 kB)\n",
      "Using cached idna-3.10-py3-none-any.whl (70 kB)\n",
      "Using cached itsdangerous-2.2.0-py3-none-any.whl (16 kB)\n",
      "Using cached jinja2-3.1.5-py3-none-any.whl (134 kB)\n",
      "Using cached matplotlib-3.10.0-cp313-cp313-macosx_11_0_arm64.whl (8.0 MB)\n",
      "Using cached packaging-24.2-py3-none-any.whl (65 kB)\n",
      "Using cached pluggy-1.5.0-py3-none-any.whl (20 kB)\n",
      "Using cached pyerfa-2.0.1.5-cp39-abi3-macosx_11_0_arm64.whl (329 kB)\n",
      "Using cached python_engineio-4.11.2-py3-none-any.whl (59 kB)\n",
      "Using cached PyYAML-6.0.2-cp313-cp313-macosx_11_0_arm64.whl (171 kB)\n",
      "Using cached urllib3-2.3.0-py3-none-any.whl (128 kB)\n",
      "Using cached werkzeug-3.1.3-py3-none-any.whl (224 kB)\n",
      "Using cached iniconfig-2.0.0-py3-none-any.whl (5.9 kB)\n",
      "Using cached zope.event-5.0-py3-none-any.whl (6.8 kB)\n",
      "Using cached zope.interface-7.2-cp313-cp313-macosx_11_0_arm64.whl (209 kB)\n",
      "Using cached contourpy-1.3.1-cp313-cp313-macosx_11_0_arm64.whl (255 kB)\n",
      "Using cached cycler-0.12.1-py3-none-any.whl (8.3 kB)\n",
      "Downloading fonttools-4.56.0-cp313-cp313-macosx_10_13_universal2.whl (2.7 MB)\n",
      "\u001b[2K   \u001b[90m━━━━━━━━━━━━━━━━━━━━━━━━━━━━━━━━━━━━━━━━\u001b[0m \u001b[32m2.7/2.7 MB\u001b[0m \u001b[31m40.2 MB/s\u001b[0m eta \u001b[36m0:00:00\u001b[0m\n",
      "\u001b[?25hUsing cached kiwisolver-1.4.8-cp313-cp313-macosx_11_0_arm64.whl (65 kB)\n",
      "Using cached MarkupSafe-3.0.2-cp313-cp313-macosx_11_0_arm64.whl (12 kB)\n",
      "Using cached pillow-11.1.0-cp313-cp313-macosx_11_0_arm64.whl (3.1 MB)\n",
      "Using cached pyparsing-3.2.1-py3-none-any.whl (107 kB)\n",
      "Using cached python_dateutil-2.9.0.post0-py2.py3-none-any.whl (229 kB)\n",
      "Using cached simple_websocket-1.1.0-py3-none-any.whl (13 kB)\n",
      "Downloading setuptools-75.8.0-py3-none-any.whl (1.2 MB)\n",
      "\u001b[2K   \u001b[90m━━━━━━━━━━━━━━━━━━━━━━━━━━━━━━━━━━━━━━━━\u001b[0m \u001b[32m1.2/1.2 MB\u001b[0m \u001b[31m38.0 MB/s\u001b[0m eta \u001b[36m0:00:00\u001b[0m\n",
      "\u001b[?25hUsing cached six-1.17.0-py2.py3-none-any.whl (11 kB)\n",
      "Using cached wsproto-1.2.0-py3-none-any.whl (24 kB)\n",
      "Using cached h11-0.14.0-py3-none-any.whl (58 kB)\n",
      "Installing collected packages: urllib3, tqdm, six, setuptools, PyYAML, pyparsing, pluggy, pillow, packaging, numpy, MarkupSafe, kiwisolver, itsdangerous, iniconfig, idna, h11, greenlet, fonttools, cycler, click, charset-normalizer, certifi, blinker, bidict, astropy-iers-data, zope.interface, zope.event, wsproto, Werkzeug, scipy, requests, python-dateutil, pytest, pyerfa, Jinja2, contourpy, simple-websocket, matplotlib, gevent, flask, astropy, python-engineio, gevent-websocket, flask-cors, corner, python-socketio, flask-socketio, phoebe\n",
      "Successfully installed Jinja2-3.1.5 MarkupSafe-3.0.2 PyYAML-6.0.2 Werkzeug-3.1.3 astropy-7.0.0 astropy-iers-data-0.2025.2.10.0.33.26 bidict-0.23.1 blinker-1.9.0 certifi-2025.1.31 charset-normalizer-3.4.1 click-8.1.8 contourpy-1.3.1 corner-2.2.3 cycler-0.12.1 flask-3.1.0 flask-cors-5.0.0 flask-socketio-5.5.1 fonttools-4.55.8 gevent-24.11.1 gevent-websocket-0.10.1 greenlet-3.1.1 h11-0.14.0 idna-3.10 iniconfig-2.0.0 itsdangerous-2.2.0 kiwisolver-1.4.8 matplotlib-3.10.0 numpy-2.2.2 packaging-24.2 phoebe-2.4.17 pillow-11.1.0 pluggy-1.5.0 pyerfa-2.0.1.5 pyparsing-3.2.1 pytest-8.3.4 python-dateutil-2.9.0.post0 python-engineio-4.11.2 python-socketio-5.12.1 requests-2.32.3 scipy-1.15.1 setuptools-75.8.0 simple-websocket-1.1.0 six-1.17.0 tqdm-4.67.1 urllib3-2.3.0 wsproto-1.2.0 zope.event-5.0 zope.interface-7.2\n",
      "Note: you may need to restart the kernel to use updated packages.\n"
     ]
    }
   ],
   "source": [
    "pip install -I \"phoebe>=2.4,<2.5\""
   ]
  },
  {
   "cell_type": "markdown",
   "metadata": {
    "collapsed": true
   },
   "source": [
    "As always, let's do imports and initialize a logger and a new bundle."
   ]
  },
  {
   "cell_type": "code",
   "execution_count": 9,
   "metadata": {},
   "outputs": [
    {
     "name": "stderr",
     "output_type": "stream",
     "text": [
      "Tue, 11 Feb 2025 10:53 PASSBANDS    WARNING passband 'Bolometric:900-40000' already exists with local=True... removing\n",
      "Tue, 11 Feb 2025 10:53 PASSBANDS    WARNING deleting file: /Users/shannonbowes/.phoebe/atmospheres/tables/passbands/bolometric_900-40000.fits\n",
      "Tue, 11 Feb 2025 10:53 PASSBANDS    WARNING passband 'Johnson:V' already exists with local=True... removing\n",
      "Tue, 11 Feb 2025 10:53 PASSBANDS    WARNING deleting file: /Users/shannonbowes/.phoebe/atmospheres/tables/passbands/johnson_v.fits\n"
     ]
    }
   ],
   "source": [
    "import phoebe\n",
    "from phoebe import u # units\n",
    "import numpy as np\n",
    "import matplotlib.pyplot as plt\n",
    "phoebe.atmospheres.passbands._url_tables_server = 'https://staging.phoebe-project.org'\n",
    "phoebe.list_online_passbands(refresh=True)\n",
    "phoebe.list_all_update_passbands_available()\n",
    "phoebe.update_all_passbands()\n",
    "\n",
    "logger = phoebe.logger()\n",
    "\n",
    "b = phoebe.default_binary()"
   ]
  },
  {
   "cell_type": "markdown",
   "metadata": {
    "collapsed": true
   },
   "source": [
    "Adding Datasets\n",
    "------------------\n",
    "\n",
    "Now we'll create an empty lc dataset:"
   ]
  },
  {
   "cell_type": "code",
   "execution_count": 10,
   "metadata": {},
   "outputs": [
    {
     "data": {
      "text/plain": [
       "<ParameterSet: 80 parameters | contexts: dataset, compute, constraint, figure>"
      ]
     },
     "execution_count": 10,
     "metadata": {},
     "output_type": "execute_result"
    }
   ],
   "source": [
    "b.add_dataset('lc', times=np.linspace(0,1,201), dataset='mylc')"
   ]
  },
  {
   "cell_type": "markdown",
   "metadata": {},
   "source": [
    "Running Compute\n",
    "---------------------"
   ]
  },
  {
   "cell_type": "markdown",
   "metadata": {},
   "source": [
    "Now we'll compute synthetics at the times provided using the default options"
   ]
  },
  {
   "cell_type": "code",
   "execution_count": 11,
   "metadata": {},
   "outputs": [
    {
     "name": "stderr",
     "output_type": "stream",
     "text": [
      "100%|██████████| 201/201 [00:01<00:00, 139.50it/s]\n"
     ]
    },
    {
     "data": {
      "text/plain": [
       "<ParameterSet: 3 parameters | qualifiers: comments, times, fluxes>"
      ]
     },
     "execution_count": 11,
     "metadata": {},
     "output_type": "execute_result"
    }
   ],
   "source": [
    "b.run_compute(irrad_method='none')"
   ]
  },
  {
   "cell_type": "markdown",
   "metadata": {},
   "source": [
    "Plotting\n",
    "--------------\n",
    "\n",
    "Now we can simply plot the resulting synthetic light curve."
   ]
  },
  {
   "cell_type": "code",
   "execution_count": 12,
   "metadata": {},
   "outputs": [
    {
     "name": "stderr",
     "output_type": "stream",
     "text": [
      "/opt/anaconda3/envs/phoebe_environment/lib/python3.13/site-packages/phoebe/dependencies/autofig/figure.py:627: UserWarning: FigureCanvasAgg is non-interactive, and thus cannot be shown\n",
      "  plt.show()  # <-- blocking\n"
     ]
    }
   ],
   "source": [
    "afig, mplfig = b['mylc@model'].plot(show=True)"
   ]
  },
  {
   "cell_type": "code",
   "execution_count": 13,
   "metadata": {},
   "outputs": [],
   "source": [
    "afig, mplfig = b['mylc@model'].plot(x='phases', show=True)"
   ]
  },
  {
   "cell_type": "code",
   "execution_count": null,
   "metadata": {},
   "outputs": [],
   "source": []
  }
 ],
 "metadata": {
  "kernelspec": {
   "display_name": "Python 3",
   "language": "python",
   "name": "python3"
  },
  "language_info": {
   "codemirror_mode": {
    "name": "ipython",
    "version": 3
   },
   "file_extension": ".py",
   "mimetype": "text/x-python",
   "name": "python",
   "nbconvert_exporter": "python",
   "pygments_lexer": "ipython3",
   "version": "3.13.1"
  }
 },
 "nbformat": 4,
 "nbformat_minor": 1
}
